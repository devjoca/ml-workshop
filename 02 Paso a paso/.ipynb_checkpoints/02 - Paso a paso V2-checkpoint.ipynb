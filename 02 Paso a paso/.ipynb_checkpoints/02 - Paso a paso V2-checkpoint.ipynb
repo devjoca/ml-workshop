{
 "cells": [
  {
   "cell_type": "markdown",
   "metadata": {},
   "source": [
    "# Machine Learning paso a paso\n"
   ]
  },
  {
   "cell_type": "code",
   "execution_count": null,
   "metadata": {},
   "outputs": [],
   "source": [
    "#Lectura\n",
    "import pandas as pd\n",
    "import numpy as np\n",
    "import matplotlib.pyplot as plt\n",
    "\n",
    "from mpl_toolkits.mplot3d import axes3d\n",
    " \n",
    "%matplotlib inline  \n",
    "\n",
    "data = pd.read_csv('./train.csv')\n",
    "#preprosesamiento\n",
    "data = data.dropna(thresh=2)\n",
    "\n",
    "\n",
    "X = np.c_[np.ones(data.shape[0]),data.iloc[:,0]]\n",
    "y = np.c_[data.iloc[:,1]]"
   ]
  },
  {
   "cell_type": "code",
   "execution_count": null,
   "metadata": {},
   "outputs": [],
   "source": [
    "#Plot\n",
    "plt.plot(X[:,1], y, 'x')"
   ]
  },
  {
   "cell_type": "code",
   "execution_count": null,
   "metadata": {},
   "outputs": [],
   "source": [
    "def computeCost(X, y, theta=[[0],[0]]):\n",
    "    m = y.size\n",
    "    J = 0\n",
    "    h = X.dot(theta)    \n",
    "    J = np.sum(np.square(h-y))/(2*m)\n",
    "    return(J)\n",
    "\n",
    "computeCost(X, y)"
   ]
  },
  {
   "cell_type": "code",
   "execution_count": null,
   "metadata": {},
   "outputs": [],
   "source": [
    "def gradientDescent(X, y, theta=[[0],[0]], alpha=0.00001, num_iters=1000):\n",
    "    m = y.size\n",
    "    J_history = np.zeros(num_iters)\n",
    "    \n",
    "    for iter in np.arange(num_iters):\n",
    "        h = X.dot(theta)\n",
    "        theta = theta - (alpha*(X.T.dot(h-y)))/m\n",
    "        J_history[iter] = computeCost(X, y, theta)\n",
    "    return(theta, J_history)"
   ]
  },
  {
   "cell_type": "code",
   "execution_count": null,
   "metadata": {},
   "outputs": [],
   "source": [
    "theta , Cost_J = gradientDescent(X, y)\n",
    "\n",
    "plt.plot(Cost_J)\n",
    "plt.ylabel('Costo J')\n",
    "plt.xlabel('Iteraciones');"
   ]
  },
  {
   "cell_type": "code",
   "execution_count": null,
   "metadata": {},
   "outputs": [],
   "source": [
    "xx = np.arange(0,20)\n",
    "yy = theta[0]+theta[1]*xx\n",
    "\n",
    "\n",
    "plt.plot(X[:,1], y, 'x')\n",
    "plt.plot(xx,yy, label='Linear regression (Gradient descent)')\n",
    "plt.xlim(0,20)\n"
   ]
  },
  {
   "cell_type": "code",
   "execution_count": null,
   "metadata": {},
   "outputs": [],
   "source": [
    "#Usando sklearn \n",
    "from sklearn.linear_model import LinearRegression\n",
    "\n",
    "model = LinearRegression()\n",
    "model.fit(X, y)\n",
    "\n",
    "data_test = pd.read_csv('./test.csv')\n",
    "data_test = data_test.dropna(thresh=2)\n",
    "\n",
    "\n",
    "X_test = np.c_[np.ones(data_test.shape[0]),data_test.iloc[:,0]]\n",
    "y_test = np.c_[data_test.iloc[:,1]]\n",
    "\n",
    "model.score(X_test, y_test)\n",
    "model.predict(X_test)"
   ]
  },
  {
   "cell_type": "code",
   "execution_count": null,
   "metadata": {},
   "outputs": [],
   "source": [
    "from sklearn.externals import joblib\n",
    "joblib.dump(model, 'model.pkl') "
   ]
  }
 ],
 "metadata": {
  "kernelspec": {
   "display_name": "Python 3",
   "language": "python",
   "name": "python3"
  },
  "language_info": {
   "codemirror_mode": {
    "name": "ipython",
    "version": 3
   },
   "file_extension": ".py",
   "mimetype": "text/x-python",
   "name": "python",
   "nbconvert_exporter": "python",
   "pygments_lexer": "ipython3",
   "version": "3.6.4"
  }
 },
 "nbformat": 4,
 "nbformat_minor": 2
}
